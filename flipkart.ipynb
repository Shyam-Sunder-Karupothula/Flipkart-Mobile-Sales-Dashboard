{
 "cells": [
  {
   "cell_type": "code",
   "execution_count": 127,
   "id": "69e4e4b3-bd8e-492b-8262-0e5d0f28768c",
   "metadata": {},
   "outputs": [],
   "source": [
    "import pandas as pd\n",
    "import requests\n",
    "from bs4 import BeautifulSoup\n",
    "\n",
    "Product_name = []\n",
    "Prices = []\n",
    "Description = []\n",
    "Reviews = [] \n",
    "\n",
    "for i in range(2,7):\n",
    "    url = \"https://www.flipkart.com/search?q=moblies+under+50000&otracker=search&otracker1=search&marketplace=FLIPKART&as-show=on&as=off&as-pos=1&as-type=HISTORY&page=\"+str(i)\n",
    "    r = requests.get(url)\n",
    "    #print(r)\n",
    "\n",
    "    soup = BeautifulSoup(r.text, \"lxml\")\n",
    "    box = soup.find(\"div\", class_ = \"DOjaWF gdgoEp\")\n",
    "\n",
    "    names = box.find_all(\"div\", class_ = \"KzDlHZ\")\n",
    "    #print(names)\n",
    "\n",
    "    for i in names:\n",
    "        name = i.text\n",
    "        Product_name.append(name)\n",
    "\n",
    "    print(len(Product_name))\n",
    "\n",
    "    prices = box.find_all(\"div\", class_ = \"Nx9bqj _4b5DiR\")\n",
    "\n",
    "    for i in prices:\n",
    "        name = i.text\n",
    "        Prices.append(name)\n",
    "    print(len(Prices))\n",
    "\n",
    "    description = box.find_all(\"ul\", class_ = \"G4BRas\")\n",
    "\n",
    "    for i in description:\n",
    "        name = i.text\n",
    "        Description.append(name)\n",
    "    print(len(Description))\n",
    "\n",
    "    reviews = box.find_all(\"div\", class_ = \"XQDdHH\")\n",
    "\n",
    "    for i in reviews:\n",
    "        name = i.text\n",
    "        Reviews.append(name)\n",
    "    print(len(Reviews))\n",
    "\n",
    "\n",
    "df = pd.DataFrame({\"Product Name\":Product_name,\"Prices\":Prices,\"Description\":Description,\"Reviews\":Reviews})\n",
    "print(df)\n",
    "\n",
    "print(\"Product:\", len(Product_name))\n",
    "print(\"Prices:\", len(Prices))\n",
    "print(\"Desc:\", len(Description))\n",
    "print(\"Reviews:\", len(Reviews))\n",
    "\n",
    "df.to_csv(\"flipkart_moblies_under_50000.csv\")"
   ]
  },
  {
   "cell_type": "code",
   "execution_count": null,
   "id": "adf7503f-7dbe-4ead-8622-3fab94ab3dae",
   "metadata": {},
   "outputs": [],
   "source": []
  }
 ],
 "metadata": {
  "kernelspec": {
   "display_name": "Python 3 (ipykernel)",
   "language": "python",
   "name": "python3"
  },
  "language_info": {
   "codemirror_mode": {
    "name": "ipython",
    "version": 3
   },
   "file_extension": ".py",
   "mimetype": "text/x-python",
   "name": "python",
   "nbconvert_exporter": "python",
   "pygments_lexer": "ipython3",
   "version": "3.13.2"
  }
 },
 "nbformat": 4,
 "nbformat_minor": 5
}
